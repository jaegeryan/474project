{
 "cells": [
  {
   "cell_type": "markdown",
   "metadata": {},
   "source": [
    "# Vancouver Theft Incidents Analysis\n",
    "\n",
    "## Project Overview\n",
    "This project aims to analyze the distribution of theft incidents in different neighborhoods of Vancouver by utilizing spatiotemporal data mining techniques and building predictive models using machine learning algorithms. By identifying high-crime areas and peak times, exploring potential crime patterns, and predicting the likelihood of theft occurrences at specific time-locations, the project seeks to provide valuable insights to enhance community safety strategies.\n",
    "\n",
    "## Analysis Objectives\n",
    "1. Analyze spatial distribution of theft incidents\n",
    "2. Identify temporal patterns and peak times\n",
    "3. Develop predictive models for risk assessment\n",
    "4. Generate actionable insights for safety strategies"
   ]
  },
  {
   "cell_type": "code",
   "execution_count": null,
   "metadata": {},
   "source": [
    "# Import required libraries\n",
    "import pandas as pd\n",
    "import numpy as np\n",
    "import matplotlib.pyplot as plt\n",
    "import seaborn as sns\n",
    "from datetime import datetime\n",
    "import folium\n",
    "from sklearn.model_selection import train_test_split\n",
    "from sklearn.preprocessing import StandardScaler\n",
    "\n",
    "# Visualization settings\n",
    "plt.style.use('seaborn')\n",
    "sns.set_palette('husl')\n",
    "pd.set_option('display.max_columns', None)"
   ]
  },
  {
   "cell_type": "markdown",
   "metadata": {},
   "source": [
    "## 1. Data Preprocessing"
   ]
  },
  {
   "cell_type": "code",
   "execution_count": null,
   "metadata": {},
   "source": [
    "# Load and prepare data\n",
    "def load_theft_data():\n",
    "    \"\"\"Load theft-related crime data\"\"\"\n",
    "    df = pd.read_csv('crime_data.csv')\n",
    "    # Filter for theft incidents\n",
    "    theft_df = df[df['TYPE'].str.contains('Theft', case=False, na=False)]\n",
    "    return theft_df\n",
    "\n",
    "# Load data\n",
    "theft_df = load_theft_data()\n",
    "\n",
    "# Display basic information\n",
    "print(\"Dataset Overview:\")\n",
    "print(f\"Total theft incidents: {len(theft_df)}\")\n",
    "print(\"\\nSample of the data:\")\n",
    "theft_df.head()"
   ]
  },
  {
   "cell_type": "code",
   "execution_count": null,
   "metadata": {},
   "source": [
    "# Data preprocessing\n",
    "def preprocess_data(df):\n",
    "    \"\"\"Preprocess theft data for analysis\"\"\"\n",
    "    # Convert datetime\n",
    "    df['DATE'] = pd.to_datetime(df['DATE'])\n",
    "    \n",
    "    # Extract temporal features\n",
    "    df['Year'] = df['DATE'].dt.year\n",
    "    df['Month'] = df['DATE'].dt.month\n",
    "    df['Day'] = df['DATE'].dt.day\n",
    "    df['Hour'] = df['DATE'].dt.hour\n",
    "    df['DayOfWeek'] = df['DATE'].dt.day_name()\n",
    "    df['TimeOfDay'] = pd.cut(df['Hour'], \n",
    "                            bins=[0,6,12,18,24], \n",
    "                            labels=['Night','Morning','Afternoon','Evening'])\n",
    "    \n",
    "    return df\n",
    "\n",
    "# Process data\n",
    "theft_df = preprocess_data(theft_df)\n",
    "print(\"Data preprocessing completed!\")"
   ]
  },
  {
   "cell_type": "markdown",
   "metadata": {},
   "source": [
    "## 2. Initial Data Exploration"
   ]
  },
  {
   "cell_type": "code",
   "execution_count": null,
   "metadata": {},
   "source": [
    "# Basic statistics and data quality check\n",
    "def explore_data_quality(df):\n",
    "    \"\"\"Examine data quality and basic statistics\"\"\"\n",
    "    print(\"Dataset Shape:\", df.shape)\n",
    "    print(\"\\nMissing Values:\")\n",
    "    print(df.isnull().sum())\n",
    "    print(\"\\nData Types:\")\n",
    "    print(df.dtypes)\n",
    "\n",
    "explore_data_quality(theft_df)"
   ]
  }
 ],
 "metadata": {
  "kernelspec": {
   "display_name": "Python 3",
   "language": "python",
   "name": "python3"
  },
  "language_info": {
   "codemirror_mode": {
    "name": "ipython",
    "version": 3
   },
   "file_extension": ".py",
   "mimetype": "text/x-python",
   "name": "python",
   "nbconvert_exporter": "python",
   "pygments_lexer": "ipython3",
   "version": "3.8.0"
  }
 },
 "nbformat": 4,
 "nbformat_minor": 4
}